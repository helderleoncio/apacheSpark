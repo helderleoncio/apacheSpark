{
 "cells": [
  {
   "cell_type": "code",
   "execution_count": 1,
   "metadata": {},
   "outputs": [],
   "source": [
    "# Start Spark environment\n",
    "import findspark\n",
    "findspark.init()"
   ]
  },
  {
   "cell_type": "code",
   "execution_count": 2,
   "metadata": {},
   "outputs": [],
   "source": [
    "# Load Python modules\n",
    "from pyspark import SparkContext, SparkConf\n",
    "from pyspark.sql import SparkSession\n",
    "from random import random\n",
    "from operator import add\n",
    "import time"
   ]
  },
  {
   "cell_type": "code",
   "execution_count": 3,
   "metadata": {},
   "outputs": [],
   "source": [
    "# Pi calculation using Monte Carlo Method\n",
    "def f(_):\n",
    "    x = random() * 2 - 1\n",
    "    y = random() * 2 - 1\n",
    "    return 1 if x ** 2 + y ** 2 <= 1 else 0"
   ]
  },
  {
   "cell_type": "code",
   "execution_count": 4,
   "metadata": {},
   "outputs": [],
   "source": [
    "# Starting Pi Parallel (Spark Cluster with JVM)\n",
    "start_time = time.time()\n",
    "\n",
    "#park = SparkSession.builder\\\n",
    "#       .appName(\"JupyterPiParallel_JVM\")\\\n",
    "#       .master(\"local[*]\") \\\n",
    "#       .getOrCreate()\n",
    "\n",
    "spark = SparkSession.builder \\\n",
    "        .appName(\"JupyterPiParallel_JVM\")\\\n",
    "        .master(\"spark://192.168.1.20:7077\") \\\n",
    "        .config(\"spark.driver.host\", \"192.168.1.20\") \\\n",
    "        .config(\"spark.default.parallelism\", \"54\") \\\n",
    "        .config(\"spark.driver.cores\", \"3\") \\\n",
    "        .config(\"spark.driver.memory\", \"6g\") \\\n",
    "        .config(\"spark.driver.maxResultSize\", \"6g\") \\\n",
    "        .config(\"spark.driver.memoryOverhead\", \"614m\") \\\n",
    "        .config(\"spark.executor.memory\", \"1gb\") \\\n",
    "        .config(\"spark.executor.cores\", \"3\") \\\n",
    "        .config(\"spark.executor.memory\", \"6g\") \\\n",
    "        .config(\"spark.executor.instances\", \"6\") \\\n",
    "        .config(\"spark.executor.memoryOverhead\", \"614m\")\\\n",
    "        .getOrCreate()"
   ]
  },
  {
   "cell_type": "code",
   "execution_count": 5,
   "metadata": {},
   "outputs": [
    {
     "name": "stderr",
     "output_type": "stream",
     "text": [
      "[Stage 0:==================================================> (1925 + 30) / 2000]\r"
     ]
    },
    {
     "name": "stdout",
     "output_type": "stream",
     "text": [
      "### Pi is roughly 3.141400 ###\n",
      "--- Parallel JVM Execution time: 11.409214496612549 seconds ---\n"
     ]
    },
    {
     "name": "stderr",
     "output_type": "stream",
     "text": [
      "                                                                                \r"
     ]
    }
   ],
   "source": [
    "partitions = 2000\n",
    "n = 100000 * partitions\n",
    "\n",
    "count = spark.sparkContext.parallelize(range(1, n + 1), partitions).map(f).reduce(add)\n",
    "\n",
    "print(\"### Pi is roughly %f ###\" % (4.0 * count / n))\n",
    "print(\"--- Parallel JVM Execution time: %s seconds ---\" % (time.time() - start_time))"
   ]
  },
  {
   "cell_type": "code",
   "execution_count": 6,
   "metadata": {},
   "outputs": [],
   "source": [
    "# Stop Spark session\n",
    "spark.stop()"
   ]
  },
  {
   "cell_type": "code",
   "execution_count": null,
   "metadata": {},
   "outputs": [],
   "source": []
  }
 ],
 "metadata": {
  "kernelspec": {
   "display_name": "Python 3 (ipykernel)",
   "language": "python",
   "name": "python3"
  },
  "language_info": {
   "codemirror_mode": {
    "name": "ipython",
    "version": 3
   },
   "file_extension": ".py",
   "mimetype": "text/x-python",
   "name": "python",
   "nbconvert_exporter": "python",
   "pygments_lexer": "ipython3",
   "version": "3.9.16"
  }
 },
 "nbformat": 4,
 "nbformat_minor": 4
}
