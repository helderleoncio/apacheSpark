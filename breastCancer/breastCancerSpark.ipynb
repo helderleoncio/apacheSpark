{
 "cells": [
  {
   "cell_type": "markdown",
   "id": "87508b77-694c-4f21-aafb-ba6bfbe1212d",
   "metadata": {
    "tags": []
   },
   "source": [
    "# Predição de Câncer de Mama"
   ]
  },
  {
   "cell_type": "code",
   "execution_count": 17,
   "id": "d83d26c2-aa30-41d2-80db-2a7cbf14b3a7",
   "metadata": {
    "tags": []
   },
   "outputs": [],
   "source": [
    "# Import findspark \n",
    "import findspark"
   ]
  },
  {
   "cell_type": "code",
   "execution_count": 75,
   "id": "54c2bc15-f402-44fe-8dd5-c7bc8fee0782",
   "metadata": {
    "tags": []
   },
   "outputs": [],
   "source": [
    "# Import Spark modules\n",
    "from pyspark.sql import SparkSession\n",
    "\n",
    "from pyspark.ml.feature import StringIndexer, IndexToString"
   ]
  },
  {
   "cell_type": "code",
   "execution_count": 19,
   "id": "81ef8d46-f292-473c-ab8f-a0c3c17ebb44",
   "metadata": {
    "tags": []
   },
   "outputs": [],
   "source": [
    "# Import Python modules\n",
    "import time\n",
    "import numpy as np\n",
    "import pandas as pd\n",
    "import seaborn as sns"
   ]
  },
  {
   "cell_type": "code",
   "execution_count": 20,
   "id": "bfe0e299-3edf-4f97-b21e-2bd9813b6e3f",
   "metadata": {
    "tags": []
   },
   "outputs": [],
   "source": [
    "# Import Sklearn Lib\n",
    "from sklearn.ensemble import RandomForestClassifier\n",
    "from sklearn.model_selection import StratifiedKFold\n",
    "from sklearn.metrics import accuracy_score\n",
    "\n",
    "from sklearn.preprocessing import StandardScaler\n",
    "from sklearn.preprocessing import MinMaxScaler\n",
    "\n",
    "from sklearn import datasets"
   ]
  },
  {
   "cell_type": "code",
   "execution_count": 21,
   "id": "75f7c603-6109-41c9-9ba5-398a5b2e19d5",
   "metadata": {
    "tags": []
   },
   "outputs": [],
   "source": [
    "# Import Graphics modules\n",
    "import matplotlib.pyplot as plt\n",
    "\n",
    "# Show graphics inline\n",
    "%matplotlib inline"
   ]
  },
  {
   "cell_type": "code",
   "execution_count": 22,
   "id": "3a8bce11-0659-4e17-bf3a-966b2f04cc06",
   "metadata": {
    "tags": []
   },
   "outputs": [
    {
     "name": "stderr",
     "output_type": "stream",
     "text": [
      "23/05/20 22:59:22 WARN SparkSession: Using an existing Spark session; only runtime SQL configurations will take effect.\n"
     ]
    }
   ],
   "source": [
    "# Build the Spark Session\n",
    "spark = SparkSession.builder \\\n",
    "   .master(\"local[*]\")\\\n",
    "   .appName(\"D-ACO/IDS\") \\\n",
    "   .config('spark.sql.debug.maxToStringFields', 2000) \\\n",
    "   .config('spark.debug.maxToStringFields', 2000) \\\n",
    "   .getOrCreate()\n",
    "   \n",
    "sc = spark.sparkContext"
   ]
  },
  {
   "cell_type": "markdown",
   "id": "3ee851b2-25ac-4e63-9557-62d86a6b36eb",
   "metadata": {},
   "source": [
    "### Seleção dos Dados"
   ]
  },
  {
   "cell_type": "code",
   "execution_count": 23,
   "id": "1d589928-0e63-4910-85dc-8a7b077b196f",
   "metadata": {
    "tags": []
   },
   "outputs": [],
   "source": [
    "# Path to dataset file\n",
    "data_path='../../datasets/'"
   ]
  },
  {
   "cell_type": "code",
   "execution_count": 37,
   "id": "fe82b0e6-2002-4d38-9286-8f70155a7f38",
   "metadata": {
    "tags": []
   },
   "outputs": [],
   "source": [
    "# Load Breast Cancer CSV dataset to Spark Dataframe\n",
    "df = spark.read.csv(data_path + \"BreastCancerWisconsin.csv\", \n",
    "                           sep=',',header='true', inferSchema=True)"
   ]
  },
  {
   "cell_type": "code",
   "execution_count": 67,
   "id": "dfe0639f-00fb-415f-a8c0-cb082b2ea7f3",
   "metadata": {
    "tags": []
   },
   "outputs": [
    {
     "data": {
      "text/plain": [
       "[('diagnosis', 'string'),\n",
       " ('radius_mean', 'double'),\n",
       " ('texture_mean', 'double'),\n",
       " ('perimeter_mean', 'double'),\n",
       " ('area_mean', 'double'),\n",
       " ('smoothness_mean', 'double'),\n",
       " ('compactness_mean', 'double'),\n",
       " ('concavity_mean', 'double'),\n",
       " ('concave points_mean', 'double'),\n",
       " ('symmetry_mean', 'double'),\n",
       " ('fractal_dimension_mean', 'double'),\n",
       " ('radius_se', 'double'),\n",
       " ('texture_se', 'double'),\n",
       " ('perimeter_se', 'double'),\n",
       " ('area_se', 'double'),\n",
       " ('smoothness_se', 'double'),\n",
       " ('compactness_se', 'double'),\n",
       " ('concavity_se', 'double'),\n",
       " ('concave points_se', 'double'),\n",
       " ('symmetry_se', 'double'),\n",
       " ('fractal_dimension_se', 'double'),\n",
       " ('radius_worst', 'double'),\n",
       " ('texture_worst', 'double'),\n",
       " ('perimeter_worst', 'double'),\n",
       " ('area_worst', 'double'),\n",
       " ('smoothness_worst', 'double'),\n",
       " ('compactness_worst', 'double'),\n",
       " ('concavity_worst', 'double'),\n",
       " ('concave points_worst', 'double'),\n",
       " ('symmetry_worst', 'double'),\n",
       " ('fractal_dimension_worst', 'double')]"
      ]
     },
     "execution_count": 67,
     "metadata": {},
     "output_type": "execute_result"
    }
   ],
   "source": [
    "df.dtypes"
   ]
  },
  {
   "cell_type": "code",
   "execution_count": 68,
   "id": "b5220d33-3e7c-43c2-a1f8-c08ba8c728aa",
   "metadata": {
    "tags": []
   },
   "outputs": [
    {
     "name": "stdout",
     "output_type": "stream",
     "text": [
      "root\n",
      " |-- diagnosis: string (nullable = true)\n",
      " |-- radius_mean: double (nullable = true)\n",
      " |-- texture_mean: double (nullable = true)\n",
      " |-- perimeter_mean: double (nullable = true)\n",
      " |-- area_mean: double (nullable = true)\n",
      " |-- smoothness_mean: double (nullable = true)\n",
      " |-- compactness_mean: double (nullable = true)\n",
      " |-- concavity_mean: double (nullable = true)\n",
      " |-- concave points_mean: double (nullable = true)\n",
      " |-- symmetry_mean: double (nullable = true)\n",
      " |-- fractal_dimension_mean: double (nullable = true)\n",
      " |-- radius_se: double (nullable = true)\n",
      " |-- texture_se: double (nullable = true)\n",
      " |-- perimeter_se: double (nullable = true)\n",
      " |-- area_se: double (nullable = true)\n",
      " |-- smoothness_se: double (nullable = true)\n",
      " |-- compactness_se: double (nullable = true)\n",
      " |-- concavity_se: double (nullable = true)\n",
      " |-- concave points_se: double (nullable = true)\n",
      " |-- symmetry_se: double (nullable = true)\n",
      " |-- fractal_dimension_se: double (nullable = true)\n",
      " |-- radius_worst: double (nullable = true)\n",
      " |-- texture_worst: double (nullable = true)\n",
      " |-- perimeter_worst: double (nullable = true)\n",
      " |-- area_worst: double (nullable = true)\n",
      " |-- smoothness_worst: double (nullable = true)\n",
      " |-- compactness_worst: double (nullable = true)\n",
      " |-- concavity_worst: double (nullable = true)\n",
      " |-- concave points_worst: double (nullable = true)\n",
      " |-- symmetry_worst: double (nullable = true)\n",
      " |-- fractal_dimension_worst: double (nullable = true)\n",
      "\n"
     ]
    }
   ],
   "source": [
    "df.printSchema()"
   ]
  },
  {
   "cell_type": "code",
   "execution_count": 54,
   "id": "a22f7351-f386-451d-a2fa-dd5d1ef4b062",
   "metadata": {
    "tags": []
   },
   "outputs": [],
   "source": [
    "#df.select(\"id\",\"diagnosis\",\"radius_mean\").show();"
   ]
  },
  {
   "cell_type": "code",
   "execution_count": 55,
   "id": "9ce2903f-1f6e-4b1e-a1d0-74c068b44384",
   "metadata": {
    "tags": []
   },
   "outputs": [],
   "source": [
    "#df = df.drop('_c32')\n",
    "df = df.drop(*('id', '_c32'))"
   ]
  },
  {
   "cell_type": "code",
   "execution_count": 56,
   "id": "11499160-1326-40ca-954d-0a92fd6140cf",
   "metadata": {
    "tags": []
   },
   "outputs": [
    {
     "name": "stdout",
     "output_type": "stream",
     "text": [
      "+---------+-----------+------------+--------------+---------+---------------+----------------+--------------+-------------------+-------------+----------------------+---------+----------+------------+-------+-------------+--------------+------------+-----------------+-----------+--------------------+------------+-------------+---------------+----------+----------------+-----------------+---------------+--------------------+--------------+-----------------------+\n",
      "|diagnosis|radius_mean|texture_mean|perimeter_mean|area_mean|smoothness_mean|compactness_mean|concavity_mean|concave points_mean|symmetry_mean|fractal_dimension_mean|radius_se|texture_se|perimeter_se|area_se|smoothness_se|compactness_se|concavity_se|concave points_se|symmetry_se|fractal_dimension_se|radius_worst|texture_worst|perimeter_worst|area_worst|smoothness_worst|compactness_worst|concavity_worst|concave points_worst|symmetry_worst|fractal_dimension_worst|\n",
      "+---------+-----------+------------+--------------+---------+---------------+----------------+--------------+-------------------+-------------+----------------------+---------+----------+------------+-------+-------------+--------------+------------+-----------------+-----------+--------------------+------------+-------------+---------------+----------+----------------+-----------------+---------------+--------------------+--------------+-----------------------+\n",
      "|        M|      17.99|       10.38|         122.8|   1001.0|         0.1184|          0.2776|        0.3001|             0.1471|       0.2419|               0.07871|    1.095|    0.9053|       8.589|  153.4|     0.006399|       0.04904|     0.05373|          0.01587|    0.03003|            0.006193|       25.38|        17.33|          184.6|    2019.0|          0.1622|           0.6656|         0.7119|              0.2654|        0.4601|                 0.1189|\n",
      "|        M|      20.57|       17.77|         132.9|   1326.0|        0.08474|         0.07864|        0.0869|            0.07017|       0.1812|               0.05667|   0.5435|    0.7339|       3.398|  74.08|     0.005225|       0.01308|      0.0186|           0.0134|    0.01389|            0.003532|       24.99|        23.41|          158.8|    1956.0|          0.1238|           0.1866|         0.2416|               0.186|         0.275|                0.08902|\n",
      "+---------+-----------+------------+--------------+---------+---------------+----------------+--------------+-------------------+-------------+----------------------+---------+----------+------------+-------+-------------+--------------+------------+-----------------+-----------+--------------------+------------+-------------+---------------+----------+----------------+-----------------+---------------+--------------------+--------------+-----------------------+\n",
      "only showing top 2 rows\n",
      "\n"
     ]
    }
   ],
   "source": [
    "df.show(2)"
   ]
  },
  {
   "cell_type": "code",
   "execution_count": 62,
   "id": "39b82fd0-02c6-4482-9f8e-bb6025d4e453",
   "metadata": {
    "tags": []
   },
   "outputs": [],
   "source": [
    "# Contar a frequência de cada valor na coluna \"diagnosis\"\n",
    "frequencia = df.groupBy(\"diagnosis\").count().toPandas()"
   ]
  },
  {
   "cell_type": "code",
   "execution_count": 60,
   "id": "45870252-a398-408e-8bfe-3932132f3911",
   "metadata": {
    "tags": []
   },
   "outputs": [
    {
     "name": "stdout",
     "output_type": "stream",
     "text": [
      "+---------+-----+\n",
      "|diagnosis|count|\n",
      "+---------+-----+\n",
      "|        B|  357|\n",
      "|        M|  212|\n",
      "+---------+-----+\n",
      "\n"
     ]
    }
   ],
   "source": [
    "# Exibir o resultado\n",
    "frequencia.show()"
   ]
  },
  {
   "cell_type": "code",
   "execution_count": 66,
   "id": "551392fa-66a4-4af4-a4b3-796ca4e9be80",
   "metadata": {
    "tags": []
   },
   "outputs": [
    {
     "data": {
      "image/png": "[encoded data removed]",
      "text/plain": [
       "<Figure size 640x480 with 1 Axes>"
      ]
     },
     "metadata": {},
     "output_type": "display_data"
    }
   ],
   "source": [
    "# Plotar o gráfico de barras\n",
    "plt.bar(frequencia[\"diagnosis\"], frequencia[\"count\"])\n",
    "plt.xlabel(\"Diagnosis\")\n",
    "plt.ylabel(\"Contagem\")\n",
    "plt.title(\"Gráfico de Frequência\")\n",
    "plt.show()"
   ]
  },
  {
   "cell_type": "code",
   "execution_count": 77,
   "id": "8054dbce-c868-4b16-9ed1-e1f02749375e",
   "metadata": {
    "tags": []
   },
   "outputs": [
    {
     "name": "stderr",
     "output_type": "stream",
     "text": [
      "                                                                                \r"
     ]
    }
   ],
   "source": [
    "# ML libraries doesn't accept string column => everything should be numeric! \n",
    "# create a numeric column \"label\" based on string column \"class\" \n",
    "\n",
    "indexer = StringIndexer(inputCol=\"diagnosis\", outputCol=\"label\").fit(df)\n",
    "label_data = indexer.transform(df)"
   ]
  },
  {
   "cell_type": "code",
   "execution_count": 78,
   "id": "bb58bf33-f16b-4215-9fa3-e5a90809113e",
   "metadata": {
    "tags": []
   },
   "outputs": [
    {
     "name": "stdout",
     "output_type": "stream",
     "text": [
      "Dataframe with numeric lable\n",
      "+---------+-----------+------------+--------------+---------+---------------+----------------+--------------+-------------------+-------------+----------------------+---------+----------+------------+-------+-------------+--------------+------------+-----------------+-----------+--------------------+------------+-------------+---------------+----------+----------------+-----------------+---------------+--------------------+--------------+-----------------------+-----+\n",
      "|diagnosis|radius_mean|texture_mean|perimeter_mean|area_mean|smoothness_mean|compactness_mean|concavity_mean|concave points_mean|symmetry_mean|fractal_dimension_mean|radius_se|texture_se|perimeter_se|area_se|smoothness_se|compactness_se|concavity_se|concave points_se|symmetry_se|fractal_dimension_se|radius_worst|texture_worst|perimeter_worst|area_worst|smoothness_worst|compactness_worst|concavity_worst|concave points_worst|symmetry_worst|fractal_dimension_worst|label|\n",
      "+---------+-----------+------------+--------------+---------+---------------+----------------+--------------+-------------------+-------------+----------------------+---------+----------+------------+-------+-------------+--------------+------------+-----------------+-----------+--------------------+------------+-------------+---------------+----------+----------------+-----------------+---------------+--------------------+--------------+-----------------------+-----+\n",
      "|        M|      17.99|       10.38|         122.8|   1001.0|         0.1184|          0.2776|        0.3001|             0.1471|       0.2419|               0.07871|    1.095|    0.9053|       8.589|  153.4|     0.006399|       0.04904|     0.05373|          0.01587|    0.03003|            0.006193|       25.38|        17.33|          184.6|    2019.0|          0.1622|           0.6656|         0.7119|              0.2654|        0.4601|                 0.1189|  1.0|\n",
      "|        M|      20.57|       17.77|         132.9|   1326.0|        0.08474|         0.07864|        0.0869|            0.07017|       0.1812|               0.05667|   0.5435|    0.7339|       3.398|  74.08|     0.005225|       0.01308|      0.0186|           0.0134|    0.01389|            0.003532|       24.99|        23.41|          158.8|    1956.0|          0.1238|           0.1866|         0.2416|               0.186|         0.275|                0.08902|  1.0|\n",
      "|        M|      19.69|       21.25|         130.0|   1203.0|         0.1096|          0.1599|        0.1974|             0.1279|       0.2069|               0.05999|   0.7456|    0.7869|       4.585|  94.03|      0.00615|       0.04006|     0.03832|          0.02058|     0.0225|            0.004571|       23.57|        25.53|          152.5|    1709.0|          0.1444|           0.4245|         0.4504|               0.243|        0.3613|                0.08758|  1.0|\n",
      "|        M|      11.42|       20.38|         77.58|    386.1|         0.1425|          0.2839|        0.2414|             0.1052|       0.2597|               0.09744|   0.4956|     1.156|       3.445|  27.23|      0.00911|       0.07458|     0.05661|          0.01867|    0.05963|            0.009208|       14.91|         26.5|          98.87|     567.7|          0.2098|           0.8663|         0.6869|              0.2575|        0.6638|                  0.173|  1.0|\n",
      "|        M|      20.29|       14.34|         135.1|   1297.0|         0.1003|          0.1328|         0.198|             0.1043|       0.1809|               0.05883|   0.7572|    0.7813|       5.438|  94.44|      0.01149|       0.02461|     0.05688|          0.01885|    0.01756|            0.005115|       22.54|        16.67|          152.2|    1575.0|          0.1374|            0.205|            0.4|              0.1625|        0.2364|                0.07678|  1.0|\n",
      "+---------+-----------+------------+--------------+---------+---------------+----------------+--------------+-------------------+-------------+----------------------+---------+----------+------------+-------+-------------+--------------+------------+-----------------+-----------+--------------------+------------+-------------+---------------+----------+----------------+-----------------+---------------+--------------------+--------------+-----------------------+-----+\n",
      "only showing top 5 rows\n",
      "\n"
     ]
    }
   ],
   "source": [
    "# Save the inverse map from numeric \"label\" to string \"class\" to be used further in response\n",
    "labelReverse = IndexToString().setInputCol(\"label\")\n",
    "\n",
    "# Show labeled dataframe with numeric lable\n",
    "print(\"Dataframe with numeric lable\")\n",
    "label_data.show(5)"
   ]
  },
  {
   "cell_type": "code",
   "execution_count": 79,
   "id": "10983482-8999-4a9e-aff4-a1c5c9f9bef2",
   "metadata": {
    "tags": []
   },
   "outputs": [
    {
     "name": "stdout",
     "output_type": "stream",
     "text": [
      "Final Dataframe suitable to classifier input format\n",
      "+-----+--------------------+\n",
      "|label|            features|\n",
      "+-----+--------------------+\n",
      "|  1.0|[17.99,10.38,122....|\n",
      "|  1.0|[20.57,17.77,132....|\n",
      "|  1.0|[19.69,21.25,130....|\n",
      "|  1.0|[11.42,20.38,77.5...|\n",
      "|  1.0|[20.29,14.34,135....|\n",
      "+-----+--------------------+\n",
      "only showing top 5 rows\n",
      "\n"
     ]
    }
   ],
   "source": [
    "# Drop string column \"class\", no string column\n",
    "label_data = label_data.drop(\"diagnosis\")\n",
    "\n",
    "# Most Machine Learning Lib inpute 2 columns: label (output) and feature (input)\n",
    "# The label column is the result to train ML algorithm \n",
    "# The feature column should join all parameters as a Vector\n",
    "\n",
    "# Set the column names that is not part of features list\n",
    "ignore = ['label']\n",
    "# list will be all columns parts of features\n",
    "list = [x for x in label_data.columns if x not in ignore]\n",
    "\n",
    "# VectorAssembler mount the vector of features\n",
    "assembler = VectorAssembler(\n",
    "            inputCols=list,\n",
    "            outputCol='features')\n",
    "\n",
    "# Create final dataframe composed by label and a column of features vector\n",
    "data = (assembler.transform(label_data).select(\"label\",\"features\"))\n",
    "\n",
    "print(\"Final Dataframe suitable to classifier input format\")\n",
    "#data.printSchema()\n",
    "data.show(5)"
   ]
  },
  {
   "cell_type": "code",
   "execution_count": 82,
   "id": "845b0989-f1aa-486d-a494-02e2ab07854b",
   "metadata": {
    "tags": []
   },
   "outputs": [],
   "source": [
    "from pyspark.ml.stat import Correlation\n",
    "from pyspark.ml.feature import VectorAssembler\n",
    "\n",
    "# convert to vector column first\n",
    "vector_col = \"corr_features\"\n",
    "assembler = VectorAssembler(inputCols=data.columns, outputCol=vector_col)\n",
    "df_vector = assembler.transform(data).select(vector_col)\n",
    "\n",
    "# get correlation matrix\n",
    "matrix = Correlation.corr(df_vector, vector_col)"
   ]
  },
  {
   "cell_type": "code",
   "execution_count": 86,
   "id": "0ec1898a-3b50-4da9-b79f-5d36fbdfccf7",
   "metadata": {
    "tags": []
   },
   "outputs": [],
   "source": [
    "#matrix.collect()[0][\"pearson({})\".format(vector_col)].values"
   ]
  },
  {
   "cell_type": "code",
   "execution_count": 90,
   "id": "f823065d-8eeb-4a64-8011-a12f28855261",
   "metadata": {
    "tags": []
   },
   "outputs": [
    {
     "ename": "AnalysisException",
     "evalue": "[UNRESOLVED_COLUMN.WITH_SUGGESTION] A column or function parameter with name `corr_vector` cannot be resolved. Did you mean one of the following? [`corr_features`].;\n'Project ['corr_vector]\n+- Project [corr_features#2074]\n   +- Project [label#1688, features#1916, UDF(struct(label, label#1688, features, features#1916)) AS corr_features#2074]\n      +- Project [label#1688, features#1916]\n         +- Project [radius_mean#795, texture_mean#796, perimeter_mean#797, area_mean#798, smoothness_mean#799, compactness_mean#800, concavity_mean#801, concave points_mean#802, symmetry_mean#803, fractal_dimension_mean#804, radius_se#805, texture_se#806, perimeter_se#807, area_se#808, smoothness_se#809, compactness_se#810, concavity_se#811, concave points_se#812, symmetry_se#813, fractal_dimension_se#814, radius_worst#815, texture_worst#816, perimeter_worst#817, area_worst#818, smoothness_worst#819, compactness_worst#820, concavity_worst#821, concave points_worst#822, symmetry_worst#823, fractal_dimension_worst#824, label#1688, UDF(struct(radius_mean, radius_mean#795, texture_mean, texture_mean#796, perimeter_mean, perimeter_mean#797, area_mean, area_mean#798, smoothness_mean, smoothness_mean#799, compactness_mean, compactness_mean#800, concavity_mean, concavity_mean#801, concave points_mean, concave points_mean#802, symmetry_mean, symmetry_mean#803, fractal_dimension_mean, fractal_dimension_mean#804, radius_se, radius_se#805, texture_se, texture_se#806, perimeter_se, perimeter_se#807, area_se, area_se#808, smoothness_se, smoothness_se#809, compactness_se, compactness_se#810, concavity_se, concavity_se#811, concave points_se, concave points_se#812, symmetry_se, symmetry_se#813, fractal_dimension_se, fractal_dimension_se#814, radius_worst, radius_worst#815, texture_worst, texture_worst#816, perimeter_worst, perimeter_worst#817, area_worst, area_worst#818, smoothness_worst, smoothness_worst#819, compactness_worst, compactness_worst#820, concavity_worst, concavity_worst#821, concave points_worst, concave points_worst#822, symmetry_worst, symmetry_worst#823, fractal_dimension_worst, fractal_dimension_worst#824)) AS features#1916]\n            +- Project [radius_mean#795, texture_mean#796, perimeter_mean#797, area_mean#798, smoothness_mean#799, compactness_mean#800, concavity_mean#801, concave points_mean#802, symmetry_mean#803, fractal_dimension_mean#804, radius_se#805, texture_se#806, perimeter_se#807, area_se#808, smoothness_se#809, compactness_se#810, concavity_se#811, concave points_se#812, symmetry_se#813, fractal_dimension_se#814, radius_worst#815, texture_worst#816, perimeter_worst#817, area_worst#818, smoothness_worst#819, compactness_worst#820, concavity_worst#821, concave points_worst#822, symmetry_worst#823, fractal_dimension_worst#824, label#1688]\n               +- Project [diagnosis#794, radius_mean#795, texture_mean#796, perimeter_mean#797, area_mean#798, smoothness_mean#799, compactness_mean#800, concavity_mean#801, concave points_mean#802, symmetry_mean#803, fractal_dimension_mean#804, radius_se#805, texture_se#806, perimeter_se#807, area_se#808, smoothness_se#809, compactness_se#810, concavity_se#811, concave points_se#812, symmetry_se#813, fractal_dimension_se#814, radius_worst#815, texture_worst#816, perimeter_worst#817, area_worst#818, smoothness_worst#819, compactness_worst#820, concavity_worst#821, concave points_worst#822, symmetry_worst#823, fractal_dimension_worst#824, UDF(cast(diagnosis#794 as string)) AS label#1688]\n                  +- Project [diagnosis#794, radius_mean#795, texture_mean#796, perimeter_mean#797, area_mean#798, smoothness_mean#799, compactness_mean#800, concavity_mean#801, concave points_mean#802, symmetry_mean#803, fractal_dimension_mean#804, radius_se#805, texture_se#806, perimeter_se#807, area_se#808, smoothness_se#809, compactness_se#810, concavity_se#811, concave points_se#812, symmetry_se#813, fractal_dimension_se#814, radius_worst#815, texture_worst#816, perimeter_worst#817, area_worst#818, smoothness_worst#819, compactness_worst#820, concavity_worst#821, concave points_worst#822, symmetry_worst#823, fractal_dimension_worst#824]\n                     +- Project [id#793, diagnosis#794, radius_mean#795, texture_mean#796, perimeter_mean#797, area_mean#798, smoothness_mean#799, compactness_mean#800, concavity_mean#801, concave points_mean#802, symmetry_mean#803, fractal_dimension_mean#804, radius_se#805, texture_se#806, perimeter_se#807, area_se#808, smoothness_se#809, compactness_se#810, concavity_se#811, concave points_se#812, symmetry_se#813, fractal_dimension_se#814, radius_worst#815, texture_worst#816, perimeter_worst#817, area_worst#818, smoothness_worst#819, compactness_worst#820, concavity_worst#821, concave points_worst#822, symmetry_worst#823, fractal_dimension_worst#824]\n                        +- Relation [id#793,diagnosis#794,radius_mean#795,texture_mean#796,perimeter_mean#797,area_mean#798,smoothness_mean#799,compactness_mean#800,concavity_mean#801,concave points_mean#802,symmetry_mean#803,fractal_dimension_mean#804,radius_se#805,texture_se#806,perimeter_se#807,area_se#808,smoothness_se#809,compactness_se#810,concavity_se#811,concave points_se#812,symmetry_se#813,fractal_dimension_se#814,radius_worst#815,texture_worst#816,perimeter_worst#817,area_worst#818,smoothness_worst#819,compactness_worst#820,concavity_worst#821,concave points_worst#822,symmetry_worst#823,fractal_dimension_worst#824,_c32#825] csv\n",
     "output_type": "error",
     "traceback": [
      "\u001b[0;31m---------------------------------------------------------------------------\u001b[0m",
      "\u001b[0;31mAnalysisException\u001b[0m                         Traceback (most recent call last)",
      "Cell \u001b[0;32mIn[90], line 1\u001b[0m\n\u001b[0;32m----> 1\u001b[0m matrix \u001b[38;5;241m=\u001b[39m \u001b[43mCorrelation\u001b[49m\u001b[38;5;241;43m.\u001b[39;49m\u001b[43mcorr\u001b[49m\u001b[43m(\u001b[49m\u001b[43mdf_vector\u001b[49m\u001b[43m,\u001b[49m\u001b[43m \u001b[49m\u001b[38;5;124;43m'\u001b[39;49m\u001b[38;5;124;43mcorr_vector\u001b[39;49m\u001b[38;5;124;43m'\u001b[39;49m\u001b[43m)\u001b[49m\u001b[38;5;241m.\u001b[39mcollect()[\u001b[38;5;241m0\u001b[39m][\u001b[38;5;241m0\u001b[39m] \n\u001b[1;32m      2\u001b[0m corr_matrix \u001b[38;5;241m=\u001b[39m matrix\u001b[38;5;241m.\u001b[39mtoArray()\u001b[38;5;241m.\u001b[39mtolist() \n\u001b[1;32m      3\u001b[0m corr_matrix_df \u001b[38;5;241m=\u001b[39m pd\u001b[38;5;241m.\u001b[39mDataFrame(data\u001b[38;5;241m=\u001b[39mcorr_matrix, columns \u001b[38;5;241m=\u001b[39m numeric_variables, index\u001b[38;5;241m=\u001b[39mnumeric_variables) \n",
      "File \u001b[0;32m/opt/spark/python/pyspark/ml/stat.py:181\u001b[0m, in \u001b[0;36mCorrelation.corr\u001b[0;34m(dataset, column, method)\u001b[0m\n\u001b[1;32m    179\u001b[0m javaCorrObj \u001b[38;5;241m=\u001b[39m _jvm()\u001b[38;5;241m.\u001b[39morg\u001b[38;5;241m.\u001b[39mapache\u001b[38;5;241m.\u001b[39mspark\u001b[38;5;241m.\u001b[39mml\u001b[38;5;241m.\u001b[39mstat\u001b[38;5;241m.\u001b[39mCorrelation\n\u001b[1;32m    180\u001b[0m args \u001b[38;5;241m=\u001b[39m [_py2java(sc, arg) \u001b[38;5;28;01mfor\u001b[39;00m arg \u001b[38;5;129;01min\u001b[39;00m (dataset, column, method)]\n\u001b[0;32m--> 181\u001b[0m \u001b[38;5;28;01mreturn\u001b[39;00m _java2py(sc, \u001b[43mjavaCorrObj\u001b[49m\u001b[38;5;241;43m.\u001b[39;49m\u001b[43mcorr\u001b[49m\u001b[43m(\u001b[49m\u001b[38;5;241;43m*\u001b[39;49m\u001b[43margs\u001b[49m\u001b[43m)\u001b[49m)\n",
      "File \u001b[0;32m/opt/spark/python/lib/py4j-0.10.9.7-src.zip/py4j/java_gateway.py:1322\u001b[0m, in \u001b[0;36mJavaMember.__call__\u001b[0;34m(self, *args)\u001b[0m\n\u001b[1;32m   1316\u001b[0m command \u001b[38;5;241m=\u001b[39m proto\u001b[38;5;241m.\u001b[39mCALL_COMMAND_NAME \u001b[38;5;241m+\u001b[39m\\\n\u001b[1;32m   1317\u001b[0m     \u001b[38;5;28mself\u001b[39m\u001b[38;5;241m.\u001b[39mcommand_header \u001b[38;5;241m+\u001b[39m\\\n\u001b[1;32m   1318\u001b[0m     args_command \u001b[38;5;241m+\u001b[39m\\\n\u001b[1;32m   1319\u001b[0m     proto\u001b[38;5;241m.\u001b[39mEND_COMMAND_PART\n\u001b[1;32m   1321\u001b[0m answer \u001b[38;5;241m=\u001b[39m \u001b[38;5;28mself\u001b[39m\u001b[38;5;241m.\u001b[39mgateway_client\u001b[38;5;241m.\u001b[39msend_command(command)\n\u001b[0;32m-> 1322\u001b[0m return_value \u001b[38;5;241m=\u001b[39m \u001b[43mget_return_value\u001b[49m\u001b[43m(\u001b[49m\n\u001b[1;32m   1323\u001b[0m \u001b[43m    \u001b[49m\u001b[43manswer\u001b[49m\u001b[43m,\u001b[49m\u001b[43m \u001b[49m\u001b[38;5;28;43mself\u001b[39;49m\u001b[38;5;241;43m.\u001b[39;49m\u001b[43mgateway_client\u001b[49m\u001b[43m,\u001b[49m\u001b[43m \u001b[49m\u001b[38;5;28;43mself\u001b[39;49m\u001b[38;5;241;43m.\u001b[39;49m\u001b[43mtarget_id\u001b[49m\u001b[43m,\u001b[49m\u001b[43m \u001b[49m\u001b[38;5;28;43mself\u001b[39;49m\u001b[38;5;241;43m.\u001b[39;49m\u001b[43mname\u001b[49m\u001b[43m)\u001b[49m\n\u001b[1;32m   1325\u001b[0m \u001b[38;5;28;01mfor\u001b[39;00m temp_arg \u001b[38;5;129;01min\u001b[39;00m temp_args:\n\u001b[1;32m   1326\u001b[0m     \u001b[38;5;28;01mif\u001b[39;00m \u001b[38;5;28mhasattr\u001b[39m(temp_arg, \u001b[38;5;124m\"\u001b[39m\u001b[38;5;124m_detach\u001b[39m\u001b[38;5;124m\"\u001b[39m):\n",
      "File \u001b[0;32m/opt/spark/python/pyspark/errors/exceptions/captured.py:175\u001b[0m, in \u001b[0;36mcapture_sql_exception.<locals>.deco\u001b[0;34m(*a, **kw)\u001b[0m\n\u001b[1;32m    171\u001b[0m converted \u001b[38;5;241m=\u001b[39m convert_exception(e\u001b[38;5;241m.\u001b[39mjava_exception)\n\u001b[1;32m    172\u001b[0m \u001b[38;5;28;01mif\u001b[39;00m \u001b[38;5;129;01mnot\u001b[39;00m \u001b[38;5;28misinstance\u001b[39m(converted, UnknownException):\n\u001b[1;32m    173\u001b[0m     \u001b[38;5;66;03m# Hide where the exception came from that shows a non-Pythonic\u001b[39;00m\n\u001b[1;32m    174\u001b[0m     \u001b[38;5;66;03m# JVM exception message.\u001b[39;00m\n\u001b[0;32m--> 175\u001b[0m     \u001b[38;5;28;01mraise\u001b[39;00m converted \u001b[38;5;28;01mfrom\u001b[39;00m \u001b[38;5;28;01mNone\u001b[39;00m\n\u001b[1;32m    176\u001b[0m \u001b[38;5;28;01melse\u001b[39;00m:\n\u001b[1;32m    177\u001b[0m     \u001b[38;5;28;01mraise\u001b[39;00m\n",
      "\u001b[0;31mAnalysisException\u001b[0m: [UNRESOLVED_COLUMN.WITH_SUGGESTION] A column or function parameter with name `corr_vector` cannot be resolved. Did you mean one of the following? [`corr_features`].;\n'Project ['corr_vector]\n+- Project [corr_features#2074]\n   +- Project [label#1688, features#1916, UDF(struct(label, label#1688, features, features#1916)) AS corr_features#2074]\n      +- Project [label#1688, features#1916]\n         +- Project [radius_mean#795, texture_mean#796, perimeter_mean#797, area_mean#798, smoothness_mean#799, compactness_mean#800, concavity_mean#801, concave points_mean#802, symmetry_mean#803, fractal_dimension_mean#804, radius_se#805, texture_se#806, perimeter_se#807, area_se#808, smoothness_se#809, compactness_se#810, concavity_se#811, concave points_se#812, symmetry_se#813, fractal_dimension_se#814, radius_worst#815, texture_worst#816, perimeter_worst#817, area_worst#818, smoothness_worst#819, compactness_worst#820, concavity_worst#821, concave points_worst#822, symmetry_worst#823, fractal_dimension_worst#824, label#1688, UDF(struct(radius_mean, radius_mean#795, texture_mean, texture_mean#796, perimeter_mean, perimeter_mean#797, area_mean, area_mean#798, smoothness_mean, smoothness_mean#799, compactness_mean, compactness_mean#800, concavity_mean, concavity_mean#801, concave points_mean, concave points_mean#802, symmetry_mean, symmetry_mean#803, fractal_dimension_mean, fractal_dimension_mean#804, radius_se, radius_se#805, texture_se, texture_se#806, perimeter_se, perimeter_se#807, area_se, area_se#808, smoothness_se, smoothness_se#809, compactness_se, compactness_se#810, concavity_se, concavity_se#811, concave points_se, concave points_se#812, symmetry_se, symmetry_se#813, fractal_dimension_se, fractal_dimension_se#814, radius_worst, radius_worst#815, texture_worst, texture_worst#816, perimeter_worst, perimeter_worst#817, area_worst, area_worst#818, smoothness_worst, smoothness_worst#819, compactness_worst, compactness_worst#820, concavity_worst, concavity_worst#821, concave points_worst, concave points_worst#822, symmetry_worst, symmetry_worst#823, fractal_dimension_worst, fractal_dimension_worst#824)) AS features#1916]\n            +- Project [radius_mean#795, texture_mean#796, perimeter_mean#797, area_mean#798, smoothness_mean#799, compactness_mean#800, concavity_mean#801, concave points_mean#802, symmetry_mean#803, fractal_dimension_mean#804, radius_se#805, texture_se#806, perimeter_se#807, area_se#808, smoothness_se#809, compactness_se#810, concavity_se#811, concave points_se#812, symmetry_se#813, fractal_dimension_se#814, radius_worst#815, texture_worst#816, perimeter_worst#817, area_worst#818, smoothness_worst#819, compactness_worst#820, concavity_worst#821, concave points_worst#822, symmetry_worst#823, fractal_dimension_worst#824, label#1688]\n               +- Project [diagnosis#794, radius_mean#795, texture_mean#796, perimeter_mean#797, area_mean#798, smoothness_mean#799, compactness_mean#800, concavity_mean#801, concave points_mean#802, symmetry_mean#803, fractal_dimension_mean#804, radius_se#805, texture_se#806, perimeter_se#807, area_se#808, smoothness_se#809, compactness_se#810, concavity_se#811, concave points_se#812, symmetry_se#813, fractal_dimension_se#814, radius_worst#815, texture_worst#816, perimeter_worst#817, area_worst#818, smoothness_worst#819, compactness_worst#820, concavity_worst#821, concave points_worst#822, symmetry_worst#823, fractal_dimension_worst#824, UDF(cast(diagnosis#794 as string)) AS label#1688]\n                  +- Project [diagnosis#794, radius_mean#795, texture_mean#796, perimeter_mean#797, area_mean#798, smoothness_mean#799, compactness_mean#800, concavity_mean#801, concave points_mean#802, symmetry_mean#803, fractal_dimension_mean#804, radius_se#805, texture_se#806, perimeter_se#807, area_se#808, smoothness_se#809, compactness_se#810, concavity_se#811, concave points_se#812, symmetry_se#813, fractal_dimension_se#814, radius_worst#815, texture_worst#816, perimeter_worst#817, area_worst#818, smoothness_worst#819, compactness_worst#820, concavity_worst#821, concave points_worst#822, symmetry_worst#823, fractal_dimension_worst#824]\n                     +- Project [id#793, diagnosis#794, radius_mean#795, texture_mean#796, perimeter_mean#797, area_mean#798, smoothness_mean#799, compactness_mean#800, concavity_mean#801, concave points_mean#802, symmetry_mean#803, fractal_dimension_mean#804, radius_se#805, texture_se#806, perimeter_se#807, area_se#808, smoothness_se#809, compactness_se#810, concavity_se#811, concave points_se#812, symmetry_se#813, fractal_dimension_se#814, radius_worst#815, texture_worst#816, perimeter_worst#817, area_worst#818, smoothness_worst#819, compactness_worst#820, concavity_worst#821, concave points_worst#822, symmetry_worst#823, fractal_dimension_worst#824]\n                        +- Relation [id#793,diagnosis#794,radius_mean#795,texture_mean#796,perimeter_mean#797,area_mean#798,smoothness_mean#799,compactness_mean#800,concavity_mean#801,concave points_mean#802,symmetry_mean#803,fractal_dimension_mean#804,radius_se#805,texture_se#806,perimeter_se#807,area_se#808,smoothness_se#809,compactness_se#810,concavity_se#811,concave points_se#812,symmetry_se#813,fractal_dimension_se#814,radius_worst#815,texture_worst#816,perimeter_worst#817,area_worst#818,smoothness_worst#819,compactness_worst#820,concavity_worst#821,concave points_worst#822,symmetry_worst#823,fractal_dimension_worst#824,_c32#825] csv\n"
     ]
    }
   ],
   "source": [
    "matrix = Correlation.corr(df_vector, 'corr_vector').collect()[0][0] \n",
    "corr_matrix = matrix.toArray().tolist() \n",
    "corr_matrix_df = pd.DataFrame(data=corr_matrix, columns = numeric_variables, index=numeric_variables) \n",
    "corr_matrix_df .style.background_gradient(cmap='coolwarm').set_precision(2)"
   ]
  },
  {
   "cell_type": "code",
   "execution_count": 84,
   "id": "5e09dcb1-99f4-486c-843b-76cda4dabab7",
   "metadata": {
    "tags": []
   },
   "outputs": [
    {
     "ename": "NameError",
     "evalue": "name 'corr_matrix_df' is not defined",
     "output_type": "error",
     "traceback": [
      "\u001b[0;31m---------------------------------------------------------------------------\u001b[0m",
      "\u001b[0;31mNameError\u001b[0m                                 Traceback (most recent call last)",
      "Cell \u001b[0;32mIn[84], line 5\u001b[0m\n\u001b[1;32m      2\u001b[0m \u001b[38;5;28;01mimport\u001b[39;00m \u001b[38;5;21;01mmatplotlib\u001b[39;00m\u001b[38;5;21;01m.\u001b[39;00m\u001b[38;5;21;01mpyplot\u001b[39;00m \u001b[38;5;28;01mas\u001b[39;00m \u001b[38;5;21;01mplt\u001b[39;00m\n\u001b[1;32m      4\u001b[0m plt\u001b[38;5;241m.\u001b[39mfigure(figsize\u001b[38;5;241m=\u001b[39m(\u001b[38;5;241m16\u001b[39m,\u001b[38;5;241m5\u001b[39m))  \n\u001b[0;32m----> 5\u001b[0m sns\u001b[38;5;241m.\u001b[39mheatmap(\u001b[43mcorr_matrix_df\u001b[49m, \n\u001b[1;32m      6\u001b[0m             xticklabels\u001b[38;5;241m=\u001b[39mcorr_matrix_df\u001b[38;5;241m.\u001b[39mcolumns\u001b[38;5;241m.\u001b[39mvalues,\n\u001b[1;32m      7\u001b[0m             yticklabels\u001b[38;5;241m=\u001b[39mcorr_matrix_df\u001b[38;5;241m.\u001b[39mcolumns\u001b[38;5;241m.\u001b[39mvalues,  cmap\u001b[38;5;241m=\u001b[39m\u001b[38;5;124m\"\u001b[39m\u001b[38;5;124mGreens\u001b[39m\u001b[38;5;124m\"\u001b[39m, annot\u001b[38;5;241m=\u001b[39m\u001b[38;5;28;01mTrue\u001b[39;00m)\n",
      "\u001b[0;31mNameError\u001b[0m: name 'corr_matrix_df' is not defined"
     ]
    },
    {
     "data": {
      "text/plain": [
       "<Figure size 1600x500 with 0 Axes>"
      ]
     },
     "metadata": {},
     "output_type": "display_data"
    }
   ],
   "source": [
    "import seaborn as sns \n",
    "import matplotlib.pyplot as plt\n",
    "\n",
    "plt.figure(figsize=(16,5))  \n",
    "sns.heatmap(corr_matrix_df, \n",
    "            xticklabels=corr_matrix_df.columns.values,\n",
    "            yticklabels=corr_matrix_df.columns.values,  cmap=\"Greens\", annot=True)"
   ]
  },
  {
   "cell_type": "code",
   "execution_count": 87,
   "id": "fdbe92b2-d3ff-43ab-9d77-ee9b05559490",
   "metadata": {
    "tags": []
   },
   "outputs": [],
   "source": [
    "from pyspark.ml.stat import Correlation\n",
    "from pyspark.ml.feature import VectorAssembler\n",
    "\n",
    "# convert to vector column first\n",
    "vector_col = \"corr_features\"\n",
    "assembler = VectorAssembler(inputCols=data.columns, outputCol=vector_col)\n",
    "df_vector = assembler.transform(data).select(vector_col)"
   ]
  },
  {
   "cell_type": "code",
   "execution_count": 88,
   "id": "eff5c95e-7617-443f-adab-acb18afec9b0",
   "metadata": {
    "tags": []
   },
   "outputs": [],
   "source": [
    "matrix = Correlation.corr(df_vector, vector_col)\n",
    "cor_np = matrix.collect()[0][matrix.columns[0]].toArray()"
   ]
  },
  {
   "cell_type": "code",
   "execution_count": 89,
   "id": "978357c1-2713-408b-83ee-a951d98a93cc",
   "metadata": {
    "tags": []
   },
   "outputs": [
    {
     "ename": "NameError",
     "evalue": "name 'numeric_columns' is not defined",
     "output_type": "error",
     "traceback": [
      "\u001b[0;31m---------------------------------------------------------------------------\u001b[0m",
      "\u001b[0;31mNameError\u001b[0m                                 Traceback (most recent call last)",
      "Cell \u001b[0;32mIn[89], line 11\u001b[0m\n\u001b[1;32m      8\u001b[0m m[np\u001b[38;5;241m.\u001b[39mtriu_indices(m\u001b[38;5;241m.\u001b[39mshape[\u001b[38;5;241m0\u001b[39m], \u001b[38;5;241m0\u001b[39m)] \u001b[38;5;241m=\u001b[39m \u001b[38;5;28;01mNone\u001b[39;00m\n\u001b[1;32m     10\u001b[0m corr_matrix \u001b[38;5;241m=\u001b[39m m\u001b[38;5;241m.\u001b[39mtolist() \n\u001b[0;32m---> 11\u001b[0m corr_matrix_df \u001b[38;5;241m=\u001b[39m pd\u001b[38;5;241m.\u001b[39mDataFrame(data\u001b[38;5;241m=\u001b[39mcorr_matrix, columns \u001b[38;5;241m=\u001b[39m \u001b[43mnumeric_columns\u001b[49m, index\u001b[38;5;241m=\u001b[39mnumeric_columns) \n\u001b[1;32m     14\u001b[0m labels \u001b[38;5;241m=\u001b[39m corr_matrix_df\u001b[38;5;241m.\u001b[39mcolumns\u001b[38;5;241m.\u001b[39mvalues\n\u001b[1;32m     15\u001b[0m fig \u001b[38;5;241m=\u001b[39m go\u001b[38;5;241m.\u001b[39mFigure(data\u001b[38;5;241m=\u001b[39mgo\u001b[38;5;241m.\u001b[39mHeatmap(\n\u001b[1;32m     16\u001b[0m                     z\u001b[38;5;241m=\u001b[39mcorr_matrix_df,\n\u001b[1;32m     17\u001b[0m                     x \u001b[38;5;241m=\u001b[39m labels,\n\u001b[0;32m   (...)\u001b[0m\n\u001b[1;32m     23\u001b[0m                     )\n\u001b[1;32m     24\u001b[0m                 )\n",
      "\u001b[0;31mNameError\u001b[0m: name 'numeric_columns' is not defined"
     ]
    }
   ],
   "source": [
    "\n",
    "import numpy as np\n",
    "import plotly.graph_objects as go\n",
    "\n",
    "matrix = Correlation.corr(df_vector, vector_col).collect()[0][0].toArray()\n",
    "\n",
    "# to only show one triangle\n",
    "m = matrix\n",
    "m[np.triu_indices(m.shape[0], 0)] = None\n",
    "\n",
    "corr_matrix = m.tolist() \n",
    "corr_matrix_df = pd.DataFrame(data=corr_matrix, columns = numeric_columns, index=numeric_columns) \n",
    "\n",
    "\n",
    "labels = corr_matrix_df.columns.values\n",
    "fig = go.Figure(data=go.Heatmap(\n",
    "                    z=corr_matrix_df,\n",
    "                    x = labels,\n",
    "                    y = labels, \n",
    "                    text=corr_matrix_df.round(2),\n",
    "                    texttemplate=\"%{text}\",\n",
    "                    textfont={\"size\":8},\n",
    "                    colorscale='greens'\n",
    "                    )\n",
    "                )\n",
    "fig.update_xaxes(showticklabels=False)\n",
    "fig.update_yaxes(autorange=\"reversed\")\n",
    "\n",
    "fig.show()"
   ]
  },
  {
   "cell_type": "code",
   "execution_count": null,
   "id": "bdc3988c-3cf8-4a79-b91c-b0e2ee93f55d",
   "metadata": {},
   "outputs": [],
   "source": []
  },
  {
   "cell_type": "code",
   "execution_count": null,
   "id": "77313f79-3366-4453-8e79-c06f02889ea2",
   "metadata": {},
   "outputs": [],
   "source": []
  },
  {
   "cell_type": "code",
   "execution_count": null,
   "id": "dd320b9b-9fd0-4435-8795-d8992b6e5f19",
   "metadata": {},
   "outputs": [],
   "source": [
    "# Stop Spark\n",
    "spark.stop()"
   ]
  }
 ],
 "metadata": {
  "kernelspec": {
   "display_name": "Python 3 (ipykernel)",
   "language": "python",
   "name": "python3"
  },
  "language_info": {
   "codemirror_mode": {
    "name": "ipython",
    "version": 3
   },
   "file_extension": ".py",
   "mimetype": "text/x-python",
   "name": "python",
   "nbconvert_exporter": "python",
   "pygments_lexer": "ipython3",
   "version": "3.9.6"
  }
 },
 "nbformat": 4,
 "nbformat_minor": 5
}
